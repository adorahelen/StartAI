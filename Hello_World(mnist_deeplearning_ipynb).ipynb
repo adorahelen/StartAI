{
  "nbformat": 4,
  "nbformat_minor": 0,
  "metadata": {
    "colab": {
      "provenance": [],
      "gpuType": "T4",
      "authorship_tag": "ABX9TyOMJBZ0SOUtDivdAPUg+/13",
      "include_colab_link": true
    },
    "kernelspec": {
      "name": "python3",
      "display_name": "Python 3"
    },
    "language_info": {
      "name": "python"
    },
    "accelerator": "GPU"
  },
  "cells": [
    {
      "cell_type": "markdown",
      "metadata": {
        "id": "view-in-github",
        "colab_type": "text"
      },
      "source": [
        "<a href=\"https://colab.research.google.com/github/adorahelen/StartAI/blob/main/Hello_World(mnist_deeplearning_ipynb).ipynb\" target=\"_parent\"><img src=\"https://colab.research.google.com/assets/colab-badge.svg\" alt=\"Open In Colab\"/></a>"
      ]
    },
    {
      "cell_type": "code",
      "execution_count": null,
      "metadata": {
        "id": "05gvZcS_PN-P"
      },
      "outputs": [],
      "source": [
        "from tensorflow.keras.models import Sequential\n",
        "from tensorflow.keras.layers import Dense, Activation\n",
        "from tensorflow.keras.utils import to_categorical\n",
        "from tensorflow.keras.datasets import mnist\n",
        "import numpy as np\n",
        "import matplotlib.pyplot as plt\n",
        "\n",
        "\n"
      ]
    },
    {
      "cell_type": "code",
      "source": [
        "(x_train, y_train), (x_test, y_test) = mnist.load_data()\n",
        "print(\"x_train shape\", x_train.shape)\n",
        "print(\"y_train shape\", y_train.shape)\n",
        "print(\"x_test shape\", x_test.shape)\n",
        "print(\"y_test shape\", y_test.shape)"
      ],
      "metadata": {
        "colab": {
          "base_uri": "https://localhost:8080/"
        },
        "id": "Ew7seQOJ6EUi",
        "outputId": "3b98a3e9-3be9-4ebb-ae27-276d2d0d17c8"
      },
      "execution_count": null,
      "outputs": [
        {
          "output_type": "stream",
          "name": "stdout",
          "text": [
            "Downloading data from https://storage.googleapis.com/tensorflow/tf-keras-datasets/mnist.npz\n",
            "11490434/11490434 [==============================] - 0s 0us/step\n",
            "x_train shape (60000, 28, 28)\n",
            "y_train shape (60000,)\n",
            "x_test shape (10000, 28, 28)\n",
            "y_test shape (10000,)\n"
          ]
        }
      ]
    },
    {
      "cell_type": "code",
      "source": [
        "X_train = x_train.reshape(60000, 784)\n",
        "X_test = x_test.reshape(10000, 784)\n",
        "X_train = X_train.astype('float32')\n",
        "X_test = X_test.astype('float32')\n",
        "X_train /=255\n",
        "X_test /=255\n",
        "print(\"X Training matrix shape\", X_train.shape)\n",
        "print(\"X Testing matrix shape\", X_test.shape)"
      ],
      "metadata": {
        "colab": {
          "base_uri": "https://localhost:8080/"
        },
        "id": "GC3M736N8qoi",
        "outputId": "a5623b68-4b82-45e2-f570-3ffcd6a24091"
      },
      "execution_count": null,
      "outputs": [
        {
          "output_type": "stream",
          "name": "stdout",
          "text": [
            "X Training matrix shape (60000, 784)\n",
            "X Testing matrix shape (10000, 784)\n"
          ]
        }
      ]
    },
    {
      "cell_type": "code",
      "source": [
        "Y_train = to_categorical(y_train, 10)\n",
        "Y_test = to_categorical(y_test, 10)\n",
        "print(\"Y Training matrix shape\", Y_train.shape)\n",
        "print(\"Y Testing matrix shape\", Y_test.shape)"
      ],
      "metadata": {
        "colab": {
          "base_uri": "https://localhost:8080/"
        },
        "id": "42x5-bOb_V4u",
        "outputId": "3d2ede13-6f4e-452b-9c80-806eb039c992"
      },
      "execution_count": null,
      "outputs": [
        {
          "output_type": "stream",
          "name": "stdout",
          "text": [
            "Y Training matrix shape (60000, 10)\n",
            "Y Testing matrix shape (10000, 10)\n"
          ]
        }
      ]
    },
    {
      "cell_type": "markdown",
      "source": [
        "\n",
        "\n",
        "* 입력층의 뉴런의 수는 784\n",
        "  은닉층 1 : 512\n",
        "  은닉층 2 : 256\n",
        "  출력층 : 10\n",
        "\n",
        "  {여기서부터 인공지능 모델 설계}  "
      ],
      "metadata": {
        "id": "lc4jo56Yy6Rp"
      }
    },
    {
      "cell_type": "code",
      "source": [
        "model = Sequential()\n",
        "model.add(Dense(512, input_shape=(784,)))\n",
        "model.add(Activation('relu'))\n",
        "model.add(Dense(256))\n",
        "model.add(Activation('relu'))\n",
        "model.add(Dense(10))\n",
        "model.add(Activation('softmax'))\n",
        "model.summary()"
      ],
      "metadata": {
        "colab": {
          "base_uri": "https://localhost:8080/"
        },
        "id": "a38xJkIsAdBm",
        "outputId": "7336f1f3-1f69-494d-86c7-1d7f478ccc44"
      },
      "execution_count": null,
      "outputs": [
        {
          "output_type": "stream",
          "name": "stdout",
          "text": [
            "Model: \"sequential\"\n",
            "_________________________________________________________________\n",
            " Layer (type)                Output Shape              Param #   \n",
            "=================================================================\n",
            " dense (Dense)               (None, 512)               401920    \n",
            "                                                                 \n",
            " activation (Activation)     (None, 512)               0         \n",
            "                                                                 \n",
            " dense_1 (Dense)             (None, 256)               131328    \n",
            "                                                                 \n",
            " activation_1 (Activation)   (None, 256)               0         \n",
            "                                                                 \n",
            " dense_2 (Dense)             (None, 10)                2570      \n",
            "                                                                 \n",
            " activation_2 (Activation)   (None, 10)                0         \n",
            "                                                                 \n",
            "=================================================================\n",
            "Total params: 535818 (2.04 MB)\n",
            "Trainable params: 535818 (2.04 MB)\n",
            "Non-trainable params: 0 (0.00 Byte)\n",
            "_________________________________________________________________\n"
          ]
        }
      ]
    },
    {
      "cell_type": "markdown",
      "source": [
        "인공지능 모델을 시퀸셜 방식으로 개발한다.\n",
        "\n",
        "= 케라스는 이러한 형태의 딥러닝 모델을 쉽게 개발하게 도와줌"
      ],
      "metadata": {
        "id": "jDyyhhvxCpsY"
      }
    },
    {
      "cell_type": "code",
      "source": [
        "model.compile(loss='categorical_crossentropy', optimizer='adam', metrics=['accuracy'])\n",
        "model.fit(X_train, Y_train, batch_size=128, epochs=11, verbose=1)"
      ],
      "metadata": {
        "colab": {
          "base_uri": "https://localhost:8080/"
        },
        "id": "OXsdSAGHDzr7",
        "outputId": "1a20000b-770b-4126-c5a1-c34feaf3cd7b"
      },
      "execution_count": null,
      "outputs": [
        {
          "output_type": "stream",
          "name": "stdout",
          "text": [
            "Epoch 1/11\n",
            "469/469 [==============================] - 7s 3ms/step - loss: 0.2246 - accuracy: 0.9345\n",
            "Epoch 2/11\n",
            "469/469 [==============================] - 2s 4ms/step - loss: 0.0821 - accuracy: 0.9744\n",
            "Epoch 3/11\n",
            "469/469 [==============================] - 2s 4ms/step - loss: 0.0526 - accuracy: 0.9839\n",
            "Epoch 4/11\n",
            "469/469 [==============================] - 2s 3ms/step - loss: 0.0344 - accuracy: 0.9890\n",
            "Epoch 5/11\n",
            "469/469 [==============================] - 2s 4ms/step - loss: 0.0271 - accuracy: 0.9912\n",
            "Epoch 6/11\n",
            "469/469 [==============================] - 2s 3ms/step - loss: 0.0216 - accuracy: 0.9930\n",
            "Epoch 7/11\n",
            "469/469 [==============================] - 2s 3ms/step - loss: 0.0193 - accuracy: 0.9936\n",
            "Epoch 8/11\n",
            "469/469 [==============================] - 2s 3ms/step - loss: 0.0143 - accuracy: 0.9952\n",
            "Epoch 9/11\n",
            "469/469 [==============================] - 2s 4ms/step - loss: 0.0150 - accuracy: 0.9950\n",
            "Epoch 10/11\n",
            "469/469 [==============================] - 2s 4ms/step - loss: 0.0131 - accuracy: 0.9955\n",
            "Epoch 11/11\n",
            "469/469 [==============================] - 2s 3ms/step - loss: 0.0105 - accuracy: 0.9964\n"
          ]
        },
        {
          "output_type": "execute_result",
          "data": {
            "text/plain": [
              "<keras.src.callbacks.History at 0x7e28080e5ab0>"
            ]
          },
          "metadata": {},
          "execution_count": 11
        }
      ]
    },
    {
      "cell_type": "code",
      "source": [
        "score = model.evaluate(X_test, Y_test)\n",
        "print('Test score:', score[0])\n",
        "print('Test accuracy:', score[1])"
      ],
      "metadata": {
        "colab": {
          "base_uri": "https://localhost:8080/"
        },
        "id": "NX2unpOyGZG6",
        "outputId": "87b2fb1d-1b9e-4730-ebe9-b13c8a2dbc04"
      },
      "execution_count": null,
      "outputs": [
        {
          "output_type": "stream",
          "name": "stdout",
          "text": [
            "313/313 [==============================] - 1s 3ms/step - loss: 0.0916 - accuracy: 0.9774\n",
            "Test score: 0.09158694744110107\n",
            "Test accuracy: 0.977400004863739\n"
          ]
        }
      ]
    },
    {
      "cell_type": "code",
      "source": [
        "predicated_classes = np.argmax(model.predict(X_test), axis=1)\n",
        "correct_indices = np.nonzero(predicated_classes == y_test)[0]\n",
        "incorrect_indices = np.nonzero(predicated_classes != y_test)[0]\n"
      ],
      "metadata": {
        "colab": {
          "base_uri": "https://localhost:8080/"
        },
        "id": "vCqdDdSkHL0b",
        "outputId": "cd2efc70-3ce3-4415-c206-b5d079a99a46"
      },
      "execution_count": null,
      "outputs": [
        {
          "output_type": "stream",
          "name": "stdout",
          "text": [
            "313/313 [==============================] - 1s 1ms/step\n"
          ]
        }
      ]
    },
    {
      "cell_type": "code",
      "source": [
        "plt.figure()\n",
        "for i in range(9):\n",
        "  plt.subplot(3,3, i+1)\n",
        "  incorrect = incorrect_indices[i]\n",
        "  plt.imshow(X_test[incorrect].reshape(28,28), cmap='gray')\n",
        "  plt.title(\"Predicted {}, Class {}\". format(predicated_classes[incorrect], y_test[incorrect]))\n",
        "  plt.tight_layout()"
      ],
      "metadata": {
        "colab": {
          "base_uri": "https://localhost:8080/",
          "height": 542
        },
        "id": "FFSaTDTNIIdE",
        "outputId": "f5c89e29-580c-42f1-a9d3-94712ddae322"
      },
      "execution_count": null,
      "outputs": [
        {
          "output_type": "stream",
          "name": "stderr",
          "text": [
            "<ipython-input-13-307095991bff>:3: MatplotlibDeprecationWarning: Auto-removal of overlapping axes is deprecated since 3.6 and will be removed two minor releases later; explicitly call ax.remove() as needed.\n",
            "  plt.subplot(3,3, i+1)\n"
          ]
        },
        {
          "output_type": "display_data",
          "data": {
            "text/plain": [
              "<Figure size 640x480 with 8 Axes>"
            ],
            "image/png": "[encoded data removed]"
          },
          "metadata": {}
        }
      ]
    }
  ]
}